{
 "cells": [
  {
   "cell_type": "code",
   "execution_count": 3,
   "metadata": {},
   "outputs": [
    {
     "data": {
      "text/plain": [
       "'엑스'"
      ]
     },
     "execution_count": 3,
     "metadata": {},
     "output_type": "execute_result"
    }
   ],
   "source": [
    "import random as rd\n",
    "\n",
    "rd.seed(1234)\n",
    "games = ['던전앤파이터 모바일', '코노스바 모바일', '메이플스토리M', '바람의나라:연', '카트라이더 러쉬플러스', 'FIFA Mobile', 'V4', '카운터사이드', '고질라 디펜스 포스', '트라하', '크레이지아케이드 BnB M', '런웨이 스토리', '엑스', '다크어벤저3']\n",
    "rd.choice(games)\n",
    "\n",
    "# 엑스"
   ]
  },
  {
   "cell_type": "code",
   "execution_count": 1,
   "metadata": {},
   "outputs": [
    {
     "data": {
      "text/plain": [
       "'카트라이더 러쉬플러스'"
      ]
     },
     "execution_count": 1,
     "metadata": {},
     "output_type": "execute_result"
    }
   ],
   "source": [
    "import random as rd\n",
    "\n",
    "rd.seed(4321)\n",
    "games = ['던전앤파이터 모바일', '코노스바 모바일', '메이플스토리M', '바람의나라:연', '카트라이더 러쉬플러스', 'FIFA Mobile', 'V4', '카운터사이드', '고질라 디펜스 포스', '트라하', '크레이지아케이드 BnB M', '런웨이 스토리', '다크어벤저3']\n",
    "rd.choice(games)\n",
    "\n",
    "# 카트라이더 러쉬플러스"
   ]
  }
 ],
 "metadata": {
  "kernelspec": {
   "display_name": "Python 3",
   "language": "python",
   "name": "python3"
  },
  "language_info": {
   "codemirror_mode": {
    "name": "ipython",
    "version": 3
   },
   "file_extension": ".py",
   "mimetype": "text/x-python",
   "name": "python",
   "nbconvert_exporter": "python",
   "pygments_lexer": "ipython3",
   "version": "3.8.3"
  }
 },
 "nbformat": 4,
 "nbformat_minor": 4
}
